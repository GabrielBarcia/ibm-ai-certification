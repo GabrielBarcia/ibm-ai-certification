{
 "cells": [
  {
   "cell_type": "markdown",
   "id": "3f5484b0",
   "metadata": {},
   "source": [
    "# Python Drills: Beginner → Intermediate (Practice Edition, Full 40)\n",
    "\n",
    "**You write the code.** Each exercise has:\n",
    "1) **Objective** (what to implement)\n",
    "2) **Function skeleton** (`pass`)\n",
    "3) **Tests** (`assert`)\n",
    "\n",
    "Run the **Setup** cell first to enable the test helper.\n",
    "*Generated: 2025-08-14 21:13*\n"
   ]
  },
  {
   "cell_type": "code",
   "execution_count": 1,
   "id": "92aca80c",
   "metadata": {},
   "outputs": [
    {
     "name": "stdout",
     "output_type": "stream",
     "text": [
      "Setup complete. You can run tests now.\n"
     ]
    }
   ],
   "source": [
    "\n",
    "# === Setup (run this once) ===\n",
    "class _TestCounter:\n",
    "    def __init__(self):\n",
    "        self.passed = 0\n",
    "        self.failed = 0\n",
    "    def ok(self):\n",
    "        self.passed += 1\n",
    "    def fail(self):\n",
    "        self.failed += 1\n",
    "    def summary(self):\n",
    "        print(f\"✅ Passed: {self.passed}    ❌ Failed: {self.failed}\")\n",
    "\n",
    "_TESTS = _TestCounter()\n",
    "print(\"Setup complete. You can run tests now.\")\n"
   ]
  },
  {
   "cell_type": "markdown",
   "id": "b796e1d1",
   "metadata": {},
   "source": [
    "## Part I — Beginner (20 drills)"
   ]
  },
  {
   "cell_type": "markdown",
   "id": "a74e2f0a",
   "metadata": {},
   "source": [
    "### 1) Greet by name\n",
    "\n",
    "**Objective:** Write `greet(name)` that returns exactly `Hello, <name>!`."
   ]
  },
  {
   "cell_type": "code",
   "execution_count": 2,
   "id": "bc296bdb",
   "metadata": {},
   "outputs": [],
   "source": [
    "def greet(name):\n",
    "    \"\"\"TODO: implement\"\"\"\n",
    "    return f\"Hello, {name}!\"\n"
   ]
  },
  {
   "cell_type": "code",
   "execution_count": 3,
   "id": "f2e898df",
   "metadata": {},
   "outputs": [],
   "source": [
    "assert greet('Ada') == 'Hello, Ada!'; _TESTS.ok()"
   ]
  },
  {
   "cell_type": "markdown",
   "id": "73cf7e58",
   "metadata": {},
   "source": [
    "### 2) Sum two numbers\n",
    "\n",
    "**Objective:** Write `add_two(a, b)` that returns the sum of two numbers."
   ]
  },
  {
   "cell_type": "code",
   "execution_count": 4,
   "id": "36cd3f88",
   "metadata": {},
   "outputs": [],
   "source": [
    "def add_two(a, b):\n",
    "    \"\"\"TODO: implement\"\"\"\n",
    "    return a+b\n"
   ]
  },
  {
   "cell_type": "code",
   "execution_count": 5,
   "id": "b639244c",
   "metadata": {},
   "outputs": [],
   "source": [
    "assert add_two(2, 3) == 5; _TESTS.ok()"
   ]
  },
  {
   "cell_type": "markdown",
   "id": "71276fe1",
   "metadata": {},
   "source": [
    "### 3) Swap two variables (return swapped)\n",
    "\n",
    "**Objective:** Write `swap(a, b)` that returns `(b, a)`."
   ]
  },
  {
   "cell_type": "code",
   "execution_count": 6,
   "id": "e16d7d1b",
   "metadata": {},
   "outputs": [],
   "source": [
    "def swap(a, b):\n",
    "    \"\"\"TODO: implement\"\"\"\n",
    "    return b, a\n"
   ]
  },
  {
   "cell_type": "code",
   "execution_count": 7,
   "id": "1441392f",
   "metadata": {},
   "outputs": [],
   "source": [
    "assert swap(1, 2) == (2, 1); _TESTS.ok()"
   ]
  },
  {
   "cell_type": "markdown",
   "id": "d2ff72dd",
   "metadata": {},
   "source": [
    "### 4) Even or odd\n",
    "\n",
    "**Objective:** Write `is_even(n)` that returns `True` if `n` is even, else `False`."
   ]
  },
  {
   "cell_type": "code",
   "execution_count": 8,
   "id": "3fa4e2f8",
   "metadata": {},
   "outputs": [],
   "source": [
    "def is_even(n):\n",
    "    \"\"\"TODO: implement\"\"\"\n",
    "    return n % 2 == 0\n"
   ]
  },
  {
   "cell_type": "code",
   "execution_count": 9,
   "id": "a1d69997",
   "metadata": {},
   "outputs": [],
   "source": [
    "assert is_even(4) and not is_even(5); _TESTS.ok()"
   ]
  },
  {
   "cell_type": "markdown",
   "id": "aa6bb547",
   "metadata": {},
   "source": [
    "### 5) Max of three (no built-in max)\n",
    "\n",
    "**Objective:** Write `max_of_three(a,b,c)` (don't use `max()`)."
   ]
  },
  {
   "cell_type": "code",
   "execution_count": 10,
   "id": "2c18867a",
   "metadata": {},
   "outputs": [],
   "source": [
    "def max_of_three(a, b, c):\n",
    "    \"\"\"TODO: implement\"\"\"\n",
    "    response = 0\n",
    "    if a>b : response = a\n",
    "    else : response = b\n",
    "\n",
    "    if response < c: response = c\n",
    "\n",
    "    return response\n"
   ]
  },
  {
   "cell_type": "code",
   "execution_count": 11,
   "id": "815944d9",
   "metadata": {},
   "outputs": [],
   "source": [
    "assert max_of_three(1,7,3) == 7; _TESTS.ok()"
   ]
  },
  {
   "cell_type": "markdown",
   "id": "ad465463",
   "metadata": {},
   "source": [
    "### 6) Multiples of 3 from 1..30 (return list)\n",
    "\n",
    "**Objective:** Write `multiples_of_3()` that returns numbers 1..30 divisible by 3."
   ]
  },
  {
   "cell_type": "code",
   "execution_count": 13,
   "id": "abbfb410",
   "metadata": {},
   "outputs": [],
   "source": [
    "def multiples_of_3():\n",
    "    \"\"\"TODO: implement\"\"\"\n",
    "    response = []\n",
    "    for i in range(1 , 11):\n",
    "        response.append( i*3 )\n",
    "    \n",
    "    return response\n"
   ]
  },
  {
   "cell_type": "code",
   "execution_count": 14,
   "id": "51747672",
   "metadata": {},
   "outputs": [],
   "source": [
    "assert multiples_of_3() == [3,6,9,12,15,18,21,24,27,30]; _TESTS.ok()"
   ]
  },
  {
   "cell_type": "markdown",
   "id": "d82dad51",
   "metadata": {},
   "source": [
    "### 7) Sum 1..n\n",
    "\n",
    "**Objective:** Write `sum_to_n(n)` that returns the sum 1..n."
   ]
  },
  {
   "cell_type": "code",
   "execution_count": 15,
   "id": "0bfa6070",
   "metadata": {},
   "outputs": [
    {
     "data": {
      "text/plain": [
       "55"
      ]
     },
     "execution_count": 15,
     "metadata": {},
     "output_type": "execute_result"
    }
   ],
   "source": [
    "def sum_to_n(n):\n",
    "    \"\"\"TODO: implement\"\"\"\n",
    "    response = 0\n",
    "    for i in range(1, n+1):\n",
    "        response += i\n",
    "\n",
    "    return response\n",
    "\n",
    "sum_to_n(10)"
   ]
  },
  {
   "cell_type": "code",
   "execution_count": 16,
   "id": "819f1191",
   "metadata": {},
   "outputs": [],
   "source": [
    "assert sum_to_n(10) == 55; _TESTS.ok()"
   ]
  },
  {
   "cell_type": "markdown",
   "id": "a0f9cec3",
   "metadata": {},
   "source": [
    "### 8) Factorial (iterative)\n",
    "\n",
    "**Objective:** Write `factorial(n)` using a loop (assume n>=0)."
   ]
  },
  {
   "cell_type": "code",
   "execution_count": 20,
   "id": "ae872598",
   "metadata": {},
   "outputs": [
    {
     "data": {
      "text/plain": [
       "120"
      ]
     },
     "execution_count": 20,
     "metadata": {},
     "output_type": "execute_result"
    }
   ],
   "source": [
    "def factorial(n):\n",
    "    \"\"\"TODO: implement\"\"\"\n",
    "    response = 1\n",
    "    for i in range(1, n+1):\n",
    "        response *= i\n",
    "    return response\n",
    "\n",
    "factorial(5)"
   ]
  },
  {
   "cell_type": "code",
   "execution_count": 21,
   "id": "7ae7dd27",
   "metadata": {},
   "outputs": [],
   "source": [
    "assert factorial(5) == 120; _TESTS.ok()"
   ]
  },
  {
   "cell_type": "markdown",
   "id": "816412f1",
   "metadata": {},
   "source": [
    "### 9) Reverse a string (slicing)\n",
    "\n",
    "**Objective:** Write `reverse_str(s)` to return reversed string."
   ]
  },
  {
   "cell_type": "code",
   "execution_count": 23,
   "id": "c9eefe80",
   "metadata": {},
   "outputs": [],
   "source": [
    "def reverse_str(s):\n",
    "    \"\"\"TODO: implement\"\"\"\n",
    "    return s[::-1]\n"
   ]
  },
  {
   "cell_type": "code",
   "execution_count": 24,
   "id": "1e19a79c",
   "metadata": {},
   "outputs": [],
   "source": [
    "assert reverse_str('Python') == 'nohtyP'; _TESTS.ok()"
   ]
  },
  {
   "cell_type": "markdown",
   "id": "a1904be6",
   "metadata": {},
   "source": [
    "### 10) Count vowels\n",
    "\n",
    "**Objective:** Write `count_vowels(s)` counting aeiou (case-insensitive)."
   ]
  },
  {
   "cell_type": "code",
   "execution_count": 35,
   "id": "056d5b29",
   "metadata": {},
   "outputs": [
    {
     "data": {
      "text/plain": [
       "3"
      ]
     },
     "execution_count": 35,
     "metadata": {},
     "output_type": "execute_result"
    }
   ],
   "source": [
    "def count_vowels(s):\n",
    "    \"\"\"TODO: implement\"\"\"\n",
    "    c=0 #Counter\n",
    "    vowels = 'aeiou' #Vowels\n",
    "\n",
    "    for ch in s.lower():\n",
    "        if ch in vowels: c=c+1\n",
    "    \n",
    "    return c\n",
    "\n",
    "count_vowels('Hello World')"
   ]
  },
  {
   "cell_type": "code",
   "execution_count": 28,
   "id": "5fbb977a",
   "metadata": {},
   "outputs": [],
   "source": [
    "assert count_vowels('Hello World') == 3; _TESTS.ok()"
   ]
  },
  {
   "cell_type": "markdown",
   "id": "9ccb1503",
   "metadata": {},
   "source": [
    "### 11) Palindrome check (ignore case)\n",
    "\n",
    "**Objective:** Write `is_palindrome(s)` case-insensitive."
   ]
  },
  {
   "cell_type": "code",
   "execution_count": 41,
   "id": "5305083f",
   "metadata": {},
   "outputs": [],
   "source": [
    "def is_palindrome(s):\n",
    "    \"\"\"TODO: implement\"\"\"\n",
    "    return s.lower() == s[::-1].lower()\n"
   ]
  },
  {
   "cell_type": "code",
   "execution_count": 42,
   "id": "b87b7355",
   "metadata": {},
   "outputs": [],
   "source": [
    "assert is_palindrome('Level') and not is_palindrome('Python'); _TESTS.ok()"
   ]
  },
  {
   "cell_type": "markdown",
   "id": "fb132f8b",
   "metadata": {},
   "source": [
    "### 12) List basics: first & last\n",
    "\n",
    "**Objective:** Write `first_last(lst)` returning `(first, last)`."
   ]
  },
  {
   "cell_type": "code",
   "execution_count": 53,
   "id": "e6b36410",
   "metadata": {},
   "outputs": [
    {
     "data": {
      "text/plain": [
       "(10, 30)"
      ]
     },
     "execution_count": 53,
     "metadata": {},
     "output_type": "execute_result"
    }
   ],
   "source": [
    "def first_last(lst):\n",
    "    \"\"\"TODO: implement\"\"\"\n",
    "    return lst[0], lst[len(lst)-1]\n",
    "\n",
    "first_last([10,20,30])"
   ]
  },
  {
   "cell_type": "code",
   "execution_count": 54,
   "id": "6e5dcb51",
   "metadata": {},
   "outputs": [],
   "source": [
    "assert first_last([10,20,30]) == (10,30); _TESTS.ok()"
   ]
  },
  {
   "cell_type": "markdown",
   "id": "31f7a644",
   "metadata": {},
   "source": [
    "### 13) Find min & max (manual)\n",
    "\n",
    "**Objective:** Write `min_max(lst)` without `min`/`max`."
   ]
  },
  {
   "cell_type": "code",
   "execution_count": 57,
   "id": "9416e01b",
   "metadata": {},
   "outputs": [
    {
     "data": {
      "text/plain": [
       "(-1, 9)"
      ]
     },
     "execution_count": 57,
     "metadata": {},
     "output_type": "execute_result"
    }
   ],
   "source": [
    "def min_max(lst):\n",
    "    \"\"\"TODO: implement\"\"\"\n",
    "    min = max = lst[0]\n",
    "    for num in lst:\n",
    "        if num<min : min = num\n",
    "        if num>max : max = num\n",
    "    \n",
    "    return min, max\n",
    "\n",
    "min_max([3,9,-1,5])"
   ]
  },
  {
   "cell_type": "code",
   "execution_count": 58,
   "id": "3302e1d1",
   "metadata": {},
   "outputs": [],
   "source": [
    "assert min_max([3,9,-1,5]) == (-1,9); _TESTS.ok()"
   ]
  },
  {
   "cell_type": "markdown",
   "id": "5480bc50",
   "metadata": {},
   "source": [
    "### 14) Average of list\n",
    "\n",
    "**Objective:** Write `average(lst)` returning arithmetic mean."
   ]
  },
  {
   "cell_type": "code",
   "execution_count": 64,
   "id": "705d2691",
   "metadata": {},
   "outputs": [
    {
     "data": {
      "text/plain": [
       "2.5"
      ]
     },
     "execution_count": 64,
     "metadata": {},
     "output_type": "execute_result"
    }
   ],
   "source": [
    "def average(lst):\n",
    "    \"\"\"TODO: implement\"\"\"\n",
    "    # accumulation = 0\n",
    "    # for num in lst:\n",
    "    #     accumulation += num\n",
    "\n",
    "    # avg = accumulation/len(lst)\n",
    "    # return avg\n",
    "    return sum(lst)/len(lst)\n",
    "\n",
    "average([1,2,3,4])"
   ]
  },
  {
   "cell_type": "code",
   "execution_count": 63,
   "id": "437d9f13",
   "metadata": {},
   "outputs": [],
   "source": [
    "assert abs(average([1,2,3,4]) - 2.5) < 1e-9; _TESTS.ok()"
   ]
  },
  {
   "cell_type": "markdown",
   "id": "347d8f0c",
   "metadata": {},
   "source": [
    "### 15) Unique elements (set)\n",
    "\n",
    "**Objective:** Write `unique_items(lst)` returning unique items (order not important)."
   ]
  },
  {
   "cell_type": "code",
   "execution_count": 67,
   "id": "5b7d0f3c",
   "metadata": {},
   "outputs": [
    {
     "data": {
      "text/plain": [
       "[1, 2, 3]"
      ]
     },
     "execution_count": 67,
     "metadata": {},
     "output_type": "execute_result"
    }
   ],
   "source": [
    "def unique_items(lst):\n",
    "    \"\"\"TODO: implement\"\"\"\n",
    "    # response = []\n",
    "    # for element in lst:\n",
    "    #     if element not in response :\n",
    "    #         response.append(element)\n",
    "    # return response\n",
    "    return list(set(lst))\n",
    "\n",
    "\n",
    "unique_items([1,1,2,2,3])"
   ]
  },
  {
   "cell_type": "code",
   "execution_count": 68,
   "id": "257acd94",
   "metadata": {},
   "outputs": [],
   "source": [
    "assert sorted(unique_items([1,1,2,2,3])) == [1,2,3]; _TESTS.ok()"
   ]
  },
  {
   "cell_type": "markdown",
   "id": "27e119f6",
   "metadata": {},
   "source": [
    "### 16) Word count (dict)\n",
    "\n",
    "**Objective:** Write `word_count(text)` lowercasing and counting words."
   ]
  },
  {
   "cell_type": "code",
   "execution_count": 78,
   "id": "ba70a2c8",
   "metadata": {},
   "outputs": [
    {
     "data": {
      "text/plain": [
       "{'be': 2, 'not': 1, 'to': 2, 'or': 1}"
      ]
     },
     "execution_count": 78,
     "metadata": {},
     "output_type": "execute_result"
    }
   ],
   "source": [
    "def word_count(text):\n",
    "    \"\"\"TODO: implement\"\"\"\n",
    "    words = text.lower().split()\n",
    "    unique_words = list(set( text.lower().split() ))\n",
    "    response = dict.fromkeys( unique_words, 0)\n",
    "    for word in words:\n",
    "        response[word] += 1\n",
    "\n",
    "    return response\n",
    "\n",
    "word_count('to be or not to be')\n"
   ]
  },
  {
   "cell_type": "code",
   "execution_count": 79,
   "id": "3c4db552",
   "metadata": {},
   "outputs": [],
   "source": [
    "wc = word_count('to be or not to be')\n",
    "assert wc['to']==2 and wc['be']==2; _TESTS.ok()"
   ]
  },
  {
   "cell_type": "markdown",
   "id": "3649c236",
   "metadata": {},
   "source": [
    "### 17) FizzBuzz 1..20 (return list)\n",
    "\n",
    "**Objective:** Write `fizzbuzz()` mapping 3→Fizz, 5→Buzz, 15→FizzBuzz."
   ]
  },
  {
   "cell_type": "code",
   "execution_count": 84,
   "id": "4a8a86c2",
   "metadata": {},
   "outputs": [],
   "source": [
    "def fizzbuzz():\n",
    "    \"\"\"TODO: implement\"\"\"\n",
    "    response = []\n",
    "    for i in range (1, 21):\n",
    "        if i%3 == 0 and i%5 == 0: response.append(\"FizzBuzz\")\n",
    "        elif i%3 == 0 :           response.append('Fizz')\n",
    "        elif i%5 == 0 :           response.append('Buzz')\n",
    "        else:                     response.append(i)\n",
    "\n",
    "    return response\n"
   ]
  },
  {
   "cell_type": "code",
   "execution_count": 85,
   "id": "e4fa0a05",
   "metadata": {},
   "outputs": [],
   "source": [
    "fb = fizzbuzz(); assert fb[2]=='Fizz' and fb[4]=='Buzz' and fb[14]=='FizzBuzz'; _TESTS.ok()"
   ]
  },
  {
   "cell_type": "markdown",
   "id": "9a0b4c4d",
   "metadata": {},
   "source": [
    "### 18) Primes up to n (simple)\n",
    "\n",
    "**Objective:** Write `primes_up_to(n)` (trial division ok)."
   ]
  },
  {
   "cell_type": "code",
   "execution_count": 99,
   "id": "6d0ea7ee",
   "metadata": {},
   "outputs": [
    {
     "data": {
      "text/plain": [
       "[2, 3, 5, 7, 11, 13, 17, 19]"
      ]
     },
     "execution_count": 99,
     "metadata": {},
     "output_type": "execute_result"
    }
   ],
   "source": [
    "def primes_up_to(n):\n",
    "    \"\"\"TODO: implement\"\"\"\n",
    "    response = []\n",
    "    for num in range (1, n+1):\n",
    "        if num>1:\n",
    "            isprime = True\n",
    "            for divisor in range(2, num):\n",
    "                if num % divisor == 0:\n",
    "                    isprime = False\n",
    "                    break\n",
    "            if isprime != False : \n",
    "                response.append(num)\n",
    "\n",
    "    return response\n",
    "\n",
    "primes_up_to(20)"
   ]
  },
  {
   "cell_type": "code",
   "execution_count": 98,
   "id": "d5bbb0c3",
   "metadata": {},
   "outputs": [],
   "source": [
    "assert primes_up_to(10) == [2,3,5,7]; _TESTS.ok()"
   ]
  },
  {
   "cell_type": "markdown",
   "id": "abea0bd0",
   "metadata": {},
   "source": [
    "### 19) Multiplication table row (n, up to 10)\n",
    "\n",
    "**Objective:** Write `mult_row(n)` → `[n*1, ..., n*10]`."
   ]
  },
  {
   "cell_type": "code",
   "execution_count": 100,
   "id": "db21c2a3",
   "metadata": {},
   "outputs": [],
   "source": [
    "def mult_row(n):\n",
    "    \"\"\"TODO: implement\"\"\"\n",
    "    response = []\n",
    "    for i in range(1, 11):\n",
    "        response.append(i*n)\n",
    "    \n",
    "    return response\n",
    "\n"
   ]
  },
  {
   "cell_type": "code",
   "execution_count": 101,
   "id": "37e13ffa",
   "metadata": {},
   "outputs": [],
   "source": [
    "assert mult_row(3) == [3,6,9,12,15,18,21,24,27,30]; _TESTS.ok()"
   ]
  },
  {
   "cell_type": "markdown",
   "id": "1f839a83",
   "metadata": {},
   "source": [
    "### 20) While loop: countdown\n",
    "\n",
    "**Objective:** Write `countdown(n)` → `[n, n-1, ..., 0]`."
   ]
  },
  {
   "cell_type": "code",
   "execution_count": 111,
   "id": "36b8f1f2",
   "metadata": {},
   "outputs": [
    {
     "data": {
      "text/plain": [
       "[5, 4, 3, 2, 1, 0]"
      ]
     },
     "execution_count": 111,
     "metadata": {},
     "output_type": "execute_result"
    }
   ],
   "source": [
    "def countdown(n):\n",
    "    \"\"\"TODO: implement\"\"\"\n",
    "    #answer = [n - i for i in range (0, n+1)]\n",
    "    #print(answer)\n",
    "    response = []\n",
    "    for i in range(0, n+1):\n",
    "        response.append( n-i )\n",
    "    return response\n",
    "\n",
    "countdown(5)"
   ]
  },
  {
   "cell_type": "code",
   "execution_count": 112,
   "id": "ffbe55b4",
   "metadata": {},
   "outputs": [],
   "source": [
    "assert countdown(5) == [5,4,3,2,1,0]; _TESTS.ok()"
   ]
  },
  {
   "cell_type": "markdown",
   "id": "db09d716",
   "metadata": {},
   "source": [
    "## Part II — Intermediate (20 drills)"
   ]
  },
  {
   "cell_type": "markdown",
   "id": "ab46514a",
   "metadata": {},
   "source": [
    "### 1) Squares of even numbers (list comp)\n",
    "\n",
    "**Objective:** Write `even_squares(nums)` returning squares of even numbers."
   ]
  },
  {
   "cell_type": "code",
   "execution_count": null,
   "id": "43f4863e",
   "metadata": {},
   "outputs": [],
   "source": [
    "def even_squares(nums):\n",
    "    \"\"\"TODO: implement\"\"\"\n",
    "    pass\n"
   ]
  },
  {
   "cell_type": "code",
   "execution_count": null,
   "id": "d2239284",
   "metadata": {},
   "outputs": [],
   "source": [
    "assert even_squares([1,2,3,4,5]) == [4,16]; _TESTS.ok()"
   ]
  },
  {
   "cell_type": "markdown",
   "id": "f4945b55",
   "metadata": {},
   "source": [
    "### 2) Flatten list of lists\n",
    "\n",
    "**Objective:** Write `flatten(lst)` from `[[...],[...]]` to flat list."
   ]
  },
  {
   "cell_type": "code",
   "execution_count": null,
   "id": "d53226b4",
   "metadata": {},
   "outputs": [],
   "source": [
    "def flatten(lst):\n",
    "    \"\"\"TODO: implement\"\"\"\n",
    "    pass\n"
   ]
  },
  {
   "cell_type": "code",
   "execution_count": null,
   "id": "8a0902e5",
   "metadata": {},
   "outputs": [],
   "source": [
    "assert flatten([[1,2],[3],[4,5]]) == [1,2,3,4,5]; _TESTS.ok()"
   ]
  },
  {
   "cell_type": "markdown",
   "id": "8236399c",
   "metadata": {},
   "source": [
    "### 3) Invert dict (values unique)\n",
    "\n",
    "**Objective:** Write `invert(d)` swapping keys and values."
   ]
  },
  {
   "cell_type": "code",
   "execution_count": null,
   "id": "3bbda959",
   "metadata": {},
   "outputs": [],
   "source": [
    "def invert(d):\n",
    "    \"\"\"TODO: implement\"\"\"\n",
    "    pass\n"
   ]
  },
  {
   "cell_type": "code",
   "execution_count": null,
   "id": "bde33300",
   "metadata": {},
   "outputs": [],
   "source": [
    "assert invert({'a':1,'b':2}) == {1:'a',2:'b'}; _TESTS.ok()"
   ]
  },
  {
   "cell_type": "markdown",
   "id": "3f0cfcbe",
   "metadata": {},
   "source": [
    "### 4) Merge two lists into dict (zip)\n",
    "\n",
    "**Objective:** Write `merge_to_dict(keys, values)` using `zip`."
   ]
  },
  {
   "cell_type": "code",
   "execution_count": null,
   "id": "12c0a350",
   "metadata": {},
   "outputs": [],
   "source": [
    "def merge_to_dict(keys, values):\n",
    "    \"\"\"TODO: implement\"\"\"\n",
    "    pass\n"
   ]
  },
  {
   "cell_type": "code",
   "execution_count": null,
   "id": "d9d8e156",
   "metadata": {},
   "outputs": [],
   "source": [
    "assert merge_to_dict(['a','b'],[1,2]) == {'a':1,'b':2}; _TESTS.ok()"
   ]
  },
  {
   "cell_type": "markdown",
   "id": "3af4e799",
   "metadata": {},
   "source": [
    "### 5) Sort tuples by second then first\n",
    "\n",
    "**Objective:** Write `sort_tuples(tuples)` by (t[1], t[0])."
   ]
  },
  {
   "cell_type": "code",
   "execution_count": null,
   "id": "e6028741",
   "metadata": {},
   "outputs": [],
   "source": [
    "def sort_tuples(tuples):\n",
    "    \"\"\"TODO: implement\"\"\"\n",
    "    pass\n"
   ]
  },
  {
   "cell_type": "code",
   "execution_count": null,
   "id": "369fac32",
   "metadata": {},
   "outputs": [],
   "source": [
    "assert sort_tuples([('b',2),('a',2),('c',1)]) == [('c',1),('a',2),('b',2)]; _TESTS.ok()"
   ]
  },
  {
   "cell_type": "markdown",
   "id": "ad8a41e1",
   "metadata": {},
   "source": [
    "### 6) Recursive fibonacci(n)\n",
    "\n",
    "**Objective:** Write `fib(n)` recursion."
   ]
  },
  {
   "cell_type": "code",
   "execution_count": null,
   "id": "d223b5dc",
   "metadata": {},
   "outputs": [],
   "source": [
    "def fib(n):\n",
    "    \"\"\"TODO: implement\"\"\"\n",
    "    pass\n"
   ]
  },
  {
   "cell_type": "code",
   "execution_count": null,
   "id": "d453b557",
   "metadata": {},
   "outputs": [],
   "source": [
    "assert fib(10) == 55; _TESTS.ok()"
   ]
  },
  {
   "cell_type": "markdown",
   "id": "44c379ad",
   "metadata": {},
   "source": [
    "### 7) Map/filter/lambda: odds * 3\n",
    "\n",
    "**Objective:** Write `triple_odds(nums)` to triple odd numbers."
   ]
  },
  {
   "cell_type": "code",
   "execution_count": null,
   "id": "31b79d80",
   "metadata": {},
   "outputs": [],
   "source": [
    "def triple_odds(nums):\n",
    "    \"\"\"TODO: implement\"\"\"\n",
    "    pass\n"
   ]
  },
  {
   "cell_type": "code",
   "execution_count": null,
   "id": "be9dea92",
   "metadata": {},
   "outputs": [],
   "source": [
    "assert triple_odds([1,2,3,4]) == [3,9]; _TESTS.ok()"
   ]
  },
  {
   "cell_type": "markdown",
   "id": "1fdc73b2",
   "metadata": {},
   "source": [
    "### 8) Generator of Fibonacci under limit\n",
    "\n",
    "**Objective:** Write `gen_fib(limit)` yields numbers < limit."
   ]
  },
  {
   "cell_type": "code",
   "execution_count": null,
   "id": "687700ca",
   "metadata": {},
   "outputs": [],
   "source": [
    "def gen_fib(limit):\n",
    "    \"\"\"TODO: implement\"\"\"\n",
    "    pass\n"
   ]
  },
  {
   "cell_type": "code",
   "execution_count": null,
   "id": "e0bea247",
   "metadata": {},
   "outputs": [],
   "source": [
    "assert list(gen_fib(20)) == [0,1,1,2,3,5,8,13]; _TESTS.ok()"
   ]
  },
  {
   "cell_type": "markdown",
   "id": "28de6860",
   "metadata": {},
   "source": [
    "### 9) Parse CSV-like text to list of dicts\n",
    "\n",
    "**Objective:** Write `parse_csv(text)` first line headers."
   ]
  },
  {
   "cell_type": "code",
   "execution_count": null,
   "id": "6e707ddb",
   "metadata": {},
   "outputs": [],
   "source": [
    "def parse_csv(text):\n",
    "    \"\"\"TODO: implement\"\"\"\n",
    "    pass\n"
   ]
  },
  {
   "cell_type": "code",
   "execution_count": null,
   "id": "fb4c6aff",
   "metadata": {},
   "outputs": [],
   "source": [
    "txt = \"\"\"name,age\\nAda,36\\nGrace,40\"\"\"; assert parse_csv(txt)[0]['name']=='Ada'; _TESTS.ok()"
   ]
  },
  {
   "cell_type": "markdown",
   "id": "896e3be1",
   "metadata": {},
   "source": [
    "### 10) Days between two YYYY-MM-DD dates\n",
    "\n",
    "**Objective:** Write `days_between(d1, d2)` absolute difference."
   ]
  },
  {
   "cell_type": "code",
   "execution_count": null,
   "id": "7aaa9323",
   "metadata": {},
   "outputs": [],
   "source": [
    "from datetime import date\n",
    "def days_between(d1, d2):\n",
    "    \"\"\"TODO: implement\"\"\"\n",
    "    pass\n"
   ]
  },
  {
   "cell_type": "code",
   "execution_count": null,
   "id": "6224c144",
   "metadata": {},
   "outputs": [],
   "source": [
    "assert days_between('2020-01-01','2020-01-31') == 30; _TESTS.ok()"
   ]
  },
  {
   "cell_type": "markdown",
   "id": "c87d1a50",
   "metadata": {},
   "source": [
    "### 11) Regex: extract emails\n",
    "\n",
    "**Objective:** Write `extract_emails(text)` with regex."
   ]
  },
  {
   "cell_type": "code",
   "execution_count": null,
   "id": "29b7975b",
   "metadata": {},
   "outputs": [],
   "source": [
    "import re\n",
    "def extract_emails(text):\n",
    "    \"\"\"TODO: implement\"\"\"\n",
    "    pass\n"
   ]
  },
  {
   "cell_type": "code",
   "execution_count": null,
   "id": "22c55ec2",
   "metadata": {},
   "outputs": [],
   "source": [
    "assert extract_emails('mail me a@b.com or c.d@e.org') == ['a@b.com','c.d@e.org']; _TESTS.ok()"
   ]
  },
  {
   "cell_type": "markdown",
   "id": "a1ea26ee",
   "metadata": {},
   "source": [
    "### 12) Safe division with try/except\n",
    "\n",
    "**Objective:** Write `safe_div(a, b)` returns None on ZeroDivisionError."
   ]
  },
  {
   "cell_type": "code",
   "execution_count": null,
   "id": "09474a0c",
   "metadata": {},
   "outputs": [],
   "source": [
    "def safe_div(a, b):\n",
    "    \"\"\"TODO: implement\"\"\"\n",
    "    pass\n"
   ]
  },
  {
   "cell_type": "code",
   "execution_count": null,
   "id": "782f33e8",
   "metadata": {},
   "outputs": [],
   "source": [
    "assert safe_div(6,3)==2 and safe_div(1,0) is None; _TESTS.ok()"
   ]
  },
  {
   "cell_type": "markdown",
   "id": "8ef05bb8",
   "metadata": {},
   "source": [
    "### 13) Counter: top n words\n",
    "\n",
    "**Objective:** Write `top_words(text, n=2)` using `collections.Counter`."
   ]
  },
  {
   "cell_type": "code",
   "execution_count": null,
   "id": "cf5c3ca4",
   "metadata": {},
   "outputs": [],
   "source": [
    "from collections import Counter\n",
    "def top_words(text, n=2):\n",
    "    \"\"\"TODO: implement\"\"\"\n",
    "    pass\n"
   ]
  },
  {
   "cell_type": "code",
   "execution_count": null,
   "id": "a38c22db",
   "metadata": {},
   "outputs": [],
   "source": [
    "tw = top_words('to be or not to be', 1); assert tw[0][0]=='to' and tw[0][1]==2; _TESTS.ok()"
   ]
  },
  {
   "cell_type": "markdown",
   "id": "2983de28",
   "metadata": {},
   "source": [
    "### 14) Simple Stack class\n",
    "\n",
    "**Objective:** Implement class `Stack` with push/pop/peek/is_empty`."
   ]
  },
  {
   "cell_type": "code",
   "execution_count": null,
   "id": "4aca9942",
   "metadata": {},
   "outputs": [],
   "source": [
    "class Stack:\n",
    "    def __init__(self):\n",
    "        \"\"\"initialize internal storage\"\"\"\n",
    "        pass\n",
    "    def push(self, x):\n",
    "        \"\"\"push item x\"\"\"\n",
    "        pass\n",
    "    def pop(self):\n",
    "        \"\"\"pop and return last item\"\"\"\n",
    "        pass\n",
    "    def peek(self):\n",
    "        \"\"\"return last item without removing (or None if empty)\"\"\"\n",
    "        pass\n",
    "    def is_empty(self):\n",
    "        \"\"\"return True if empty, else False\"\"\"\n",
    "        pass\n"
   ]
  },
  {
   "cell_type": "code",
   "execution_count": null,
   "id": "f3d34974",
   "metadata": {},
   "outputs": [],
   "source": [
    "s = Stack(); s.push(1); s.push(2); assert hasattr(s,'push') and hasattr(s,'pop'); _TESTS.ok()"
   ]
  },
  {
   "cell_type": "markdown",
   "id": "ae1d833f",
   "metadata": {},
   "source": [
    "### 15) Decorator: timing (returns result)\n",
    "\n",
    "**Objective:** Write decorator `timed(fn)` prints elapsed time and returns result."
   ]
  },
  {
   "cell_type": "code",
   "execution_count": null,
   "id": "26475f24",
   "metadata": {},
   "outputs": [],
   "source": [
    "import time\n",
    "def timed(fn):\n",
    "    \"\"\"TODO: implement\"\"\"\n",
    "    pass\n"
   ]
  },
  {
   "cell_type": "code",
   "execution_count": null,
   "id": "ebbaa5f0",
   "metadata": {},
   "outputs": [],
   "source": [
    "@timed\n",
    "def _slow():\n",
    "    s=0\n",
    "    for _ in range(5000): s+=1\n",
    "    return s\n",
    "assert _slow()==5000; _TESTS.ok()"
   ]
  },
  {
   "cell_type": "markdown",
   "id": "cb9b4a7e",
   "metadata": {},
   "source": [
    "### 16) Deduplicate list preserving order\n",
    "\n",
    "**Objective:** Write `dedupe_ordered(seq)` keep first occurrence."
   ]
  },
  {
   "cell_type": "code",
   "execution_count": null,
   "id": "b43b581f",
   "metadata": {},
   "outputs": [],
   "source": [
    "def dedupe_ordered(seq):\n",
    "    \"\"\"TODO: implement\"\"\"\n",
    "    pass\n"
   ]
  },
  {
   "cell_type": "code",
   "execution_count": null,
   "id": "0ca1b3be",
   "metadata": {},
   "outputs": [],
   "source": [
    "assert dedupe_ordered([1,2,1,3,2,4]) == [1,2,3,4]; _TESTS.ok()"
   ]
  },
  {
   "cell_type": "markdown",
   "id": "7ae9e9a1",
   "metadata": {},
   "source": [
    "### 17) Matrix transpose (zip)\n",
    "\n",
    "**Objective:** Write `transpose(matrix)`."
   ]
  },
  {
   "cell_type": "code",
   "execution_count": null,
   "id": "8e8d58c7",
   "metadata": {},
   "outputs": [],
   "source": [
    "def transpose(matrix):\n",
    "    \"\"\"TODO: implement\"\"\"\n",
    "    pass\n"
   ]
  },
  {
   "cell_type": "code",
   "execution_count": null,
   "id": "46060f84",
   "metadata": {},
   "outputs": [],
   "source": [
    "assert transpose([[1,2,3],[4,5,6]]) == [[1,4],[2,5],[3,6]]; _TESTS.ok()"
   ]
  },
  {
   "cell_type": "markdown",
   "id": "eb138613",
   "metadata": {},
   "source": [
    "### 18) Dot product of two vectors\n",
    "\n",
    "**Objective:** Write `dot(a, b)`."
   ]
  },
  {
   "cell_type": "code",
   "execution_count": null,
   "id": "c5c1a767",
   "metadata": {},
   "outputs": [],
   "source": [
    "def dot(a, b):\n",
    "    \"\"\"TODO: implement\"\"\"\n",
    "    pass\n"
   ]
  },
  {
   "cell_type": "code",
   "execution_count": null,
   "id": "490634be",
   "metadata": {},
   "outputs": [],
   "source": [
    "assert dot([1,2,3],[4,5,6]) == 32; _TESTS.ok()"
   ]
  },
  {
   "cell_type": "markdown",
   "id": "4bbc06de",
   "metadata": {},
   "source": [
    "### 19) Group words by first letter (itertools.groupby)\n",
    "\n",
    "**Objective:** Write `group_by_first_letter(words)` sorted by first letter."
   ]
  },
  {
   "cell_type": "code",
   "execution_count": null,
   "id": "ff25ce8a",
   "metadata": {},
   "outputs": [],
   "source": [
    "from itertools import groupby\n",
    "def group_by_first_letter(words):\n",
    "    \"\"\"TODO: implement\"\"\"\n",
    "    pass\n"
   ]
  },
  {
   "cell_type": "code",
   "execution_count": null,
   "id": "59667212",
   "metadata": {},
   "outputs": [],
   "source": [
    "g = group_by_first_letter(['apple','banana','apricot']); assert set(g['a'])=={'apple','apricot'}; _TESTS.ok()"
   ]
  },
  {
   "cell_type": "markdown",
   "id": "22d8df99",
   "metadata": {},
   "source": [
    "### 20) Write a tiny test for a function\n",
    "\n",
    "**Objective:** Write `test_square()` with a couple of asserts for `square`. Return 'ok' when done."
   ]
  },
  {
   "cell_type": "code",
   "execution_count": null,
   "id": "54ebe117",
   "metadata": {},
   "outputs": [],
   "source": [
    "def square(n): return n*n\n",
    "\n",
    "def test_square():\n",
    "    \"\"\"Write asserts and return 'ok' when they pass\"\"\"\n",
    "    pass\n"
   ]
  },
  {
   "cell_type": "code",
   "execution_count": null,
   "id": "db488274",
   "metadata": {},
   "outputs": [],
   "source": [
    "assert callable(test_square); _TESTS.ok()"
   ]
  },
  {
   "cell_type": "markdown",
   "id": "968e1984",
   "metadata": {},
   "source": [
    "### Test Summary\n",
    "Run this to see totals after you've attempted problems."
   ]
  },
  {
   "cell_type": "code",
   "execution_count": null,
   "id": "a16b5080",
   "metadata": {},
   "outputs": [],
   "source": [
    "_TESTS.summary()"
   ]
  }
 ],
 "metadata": {
  "kernelspec": {
   "display_name": ".venv",
   "language": "python",
   "name": "python3"
  },
  "language_info": {
   "codemirror_mode": {
    "name": "ipython",
    "version": 3
   },
   "file_extension": ".py",
   "mimetype": "text/x-python",
   "name": "python",
   "nbconvert_exporter": "python",
   "pygments_lexer": "ipython3",
   "version": "3.11.9"
  }
 },
 "nbformat": 4,
 "nbformat_minor": 5
}
