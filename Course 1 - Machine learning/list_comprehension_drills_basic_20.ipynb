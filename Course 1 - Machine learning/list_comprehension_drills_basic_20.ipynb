{
 "cells": [
  {
   "cell_type": "markdown",
   "id": "1732ead6",
   "metadata": {},
   "source": [
    "\n",
    "# List Comprehension Drills — Basic to Intermediate (20 exercises)\n",
    "\n",
    "**Rules for every exercise**\n",
    "- Use a **list comprehension** (no `for` loops).\n",
    "- Do **not** import libraries unless explicitly allowed.\n",
    "- Your solution should replace the `TODO` line.\n",
    "- Run the cell to check the provided `assert` tests.\n",
    "\n",
    "> Tip: You can always inspect intermediate results by printing them, but remove prints before running the tests.\n"
   ]
  },
  {
   "cell_type": "markdown",
   "id": "ea5f3bf4",
   "metadata": {},
   "source": [
    "## 1) 1–10\n",
    "Create a list of numbers from 1 to 10."
   ]
  },
  {
   "cell_type": "code",
   "execution_count": 4,
   "id": "93a9b250",
   "metadata": {},
   "outputs": [],
   "source": [
    "# Expected: [1,2,3,4,5,6,7,8,9,10]\n",
    "answer = [i for i in range (1,11)]\n",
    "\n",
    "assert answer == list(range(1, 11))"
   ]
  },
  {
   "cell_type": "markdown",
   "id": "ff1f7c2d",
   "metadata": {},
   "source": [
    "## 2) Squares 1–10\n",
    "Create a list of squares for numbers 1–10."
   ]
  },
  {
   "cell_type": "code",
   "execution_count": 6,
   "id": "d0d37592",
   "metadata": {},
   "outputs": [],
   "source": [
    "# Expected: [1,4,9,16,25,36,49,64,81,100]\n",
    "answer = [ i*i for i in range(1,11)]\n",
    "\n",
    "assert answer == [n*n for n in range(1, 11)]"
   ]
  },
  {
   "cell_type": "markdown",
   "id": "1d777b2b",
   "metadata": {},
   "source": [
    "## 3) Even numbers up to 20\n",
    "Create a list with even numbers from 0 to 20 (inclusive)."
   ]
  },
  {
   "cell_type": "code",
   "execution_count": 7,
   "id": "e1fe7ae5",
   "metadata": {},
   "outputs": [],
   "source": [
    "# Expected: [0,2,4,6,8,10,12,14,16,18,20]\n",
    "answer = [ i*2 for i in range (0,11)]\n",
    "\n",
    "assert answer == [n for n in range(0, 21) if n % 2 == 0]"
   ]
  },
  {
   "cell_type": "markdown",
   "id": "9a2bc450",
   "metadata": {},
   "source": [
    "## 4) Filter positives\n",
    "Given a list, keep only positive numbers."
   ]
  },
  {
   "cell_type": "code",
   "execution_count": 8,
   "id": "cc714dd2",
   "metadata": {},
   "outputs": [],
   "source": [
    "nums = [-3, -1, 0, 2, 4, -5, 7]\n",
    "# Expected: [2, 4, 7]\n",
    "answer = [i for i in nums if i>0]\n",
    "\n",
    "assert answer == [n for n in nums if n > 0]"
   ]
  },
  {
   "cell_type": "markdown",
   "id": "d409f869",
   "metadata": {},
   "source": [
    "## 5) Absolute values\n",
    "Return absolute values for each number."
   ]
  },
  {
   "cell_type": "code",
   "execution_count": 10,
   "id": "e21b858b",
   "metadata": {},
   "outputs": [],
   "source": [
    "nums = [-3, -1, 0, 2, 4, -5, 7]\n",
    "# Expected: [3,1,0,2,4,5,7]\n",
    "answer = [abs(i) for i in nums]\n",
    "\n",
    "assert answer == [abs(n) for n in nums]"
   ]
  },
  {
   "cell_type": "markdown",
   "id": "3d2c3f13",
   "metadata": {},
   "source": [
    "## 6) String lengths\n",
    "Given a list of words, return their lengths."
   ]
  },
  {
   "cell_type": "code",
   "execution_count": 12,
   "id": "42353ae9",
   "metadata": {},
   "outputs": [],
   "source": [
    "words = [\"hi\", \"alpha\", \"beta\", \"\"]\n",
    "# Expected: [2,5,4,0]\n",
    "answer = [len(word) for word in words]\n",
    "assert answer == [len(w) for w in words]"
   ]
  },
  {
   "cell_type": "markdown",
   "id": "23caa0dc",
   "metadata": {},
   "source": [
    "## 7) First letters (lowercase)\n",
    "Return the first letter of each word in lowercase, skipping empty strings."
   ]
  },
  {
   "cell_type": "code",
   "execution_count": 18,
   "id": "d600b7d2",
   "metadata": {},
   "outputs": [],
   "source": [
    "words = [\"Hello\", \"WORLD\", \"\", \"python\"]\n",
    "# Expected: ['h','w','p']\n",
    "answer = [word[0].lower() for word in words if len(word)>0]\n",
    "\n",
    "assert answer == [w[0].lower() for w in words if w]"
   ]
  },
  {
   "cell_type": "markdown",
   "id": "b4f5c795",
   "metadata": {},
   "source": [
    "## 8) Flatten a 2D list (shallow)\n",
    "Flatten one level of nesting (e.g., [[1,2],[3,4]] → [1,2,3,4])."
   ]
  },
  {
   "cell_type": "code",
   "execution_count": 19,
   "id": "dbd414a7",
   "metadata": {},
   "outputs": [],
   "source": [
    "matrix = [[1,2,3],[4,5],[6]]\n",
    "# Expected: [1,2,3,4,5,6]\n",
    "answer = [ n for row in matrix for n in row]\n",
    "\n",
    "assert answer == [x for row in matrix for x in row]"
   ]
  },
  {
   "cell_type": "markdown",
   "id": "3b33bc67",
   "metadata": {},
   "source": [
    "## 9) Multiples of 3 (1–30)\n",
    "Create a list of numbers 1–30 that are divisible by 3."
   ]
  },
  {
   "cell_type": "code",
   "execution_count": 20,
   "id": "2bcac6a8",
   "metadata": {},
   "outputs": [],
   "source": [
    "# Expected: [3,6,9,12,15,18,21,24,27,30]\n",
    "answer = [i*3 for i in range(1, 11)]\n",
    "\n",
    "assert answer == [n for n in range(1, 31) if n % 3 == 0]"
   ]
  },
  {
   "cell_type": "markdown",
   "id": "3a98b770",
   "metadata": {},
   "source": [
    "## 10) Title-case words\n",
    "Convert words to title case (first letter upper, rest lower)."
   ]
  },
  {
   "cell_type": "code",
   "execution_count": 21,
   "id": "1dd24fa5",
   "metadata": {},
   "outputs": [],
   "source": [
    "words = [\"hELLo\", \"wORLD\", \"pYtHoN\"]\n",
    "# Expected: ['Hello','World','Python']\n",
    "answer = [word[0].upper()+word[1:].lower() for word in words]\n",
    "\n",
    "assert answer == [w.capitalize() for w in [w.lower() for w in words]]"
   ]
  },
  {
   "cell_type": "markdown",
   "id": "4d4c149a",
   "metadata": {},
   "source": [
    "## 11) Remove vowels\n",
    "Remove vowels from a string and return a list of remaining characters."
   ]
  },
  {
   "cell_type": "code",
   "execution_count": 24,
   "id": "8bd9c95f",
   "metadata": {},
   "outputs": [],
   "source": [
    "s = \"Beautiful day\"\n",
    "vowels = set(\"aeiouAEIOU\")\n",
    "# Expected: list('Btfl dy')\n",
    "answer = [ch for ch in s if ch not in vowels]\n",
    "\n",
    "assert ''.join(answer) == ''.join(ch for ch in s if ch not in vowels)"
   ]
  },
  {
   "cell_type": "markdown",
   "id": "be509874",
   "metadata": {},
   "source": [
    "## 12) Word lengths (no short words)\n",
    "Given a sentence, return lengths of words with length ≥ 4."
   ]
  },
  {
   "cell_type": "code",
   "execution_count": 27,
   "id": "e0a71f8a",
   "metadata": {},
   "outputs": [],
   "source": [
    "text = \"to be or not to be that is the question\"\n",
    "# Expected: [4,3,8]\n",
    "answer = [len(word) for word in text.split() if len(word)>=4]\n",
    "\n",
    "assert answer == [len(w) for w in text.split() if len(w) >= 4]"
   ]
  },
  {
   "cell_type": "markdown",
   "id": "4e2be8a2",
   "metadata": {},
   "source": [
    "## 13) Cartesian pairs\n",
    "Create all ordered pairs (i, j) for i in 1..3 and j in 'ab'."
   ]
  },
  {
   "cell_type": "code",
   "execution_count": 29,
   "id": "b99fdb48",
   "metadata": {},
   "outputs": [],
   "source": [
    "# Expected: [(1,'a'),(1,'b'),(2,'a'),(2,'b'),(3,'a'),(3,'b')]\n",
    "answer = [(i,j) for i in range(1, 4) for j in \"ab\"]\n",
    "\n",
    "assert answer == [(i, j) for i in range(1,4) for j in \"ab\"]"
   ]
  },
  {
   "cell_type": "markdown",
   "id": "75f0ed48",
   "metadata": {},
   "source": [
    "## 14) Unique elements (preserve order)\n",
    "Given a list with duplicates, return the first occurrence of each item (order preserved). Hint: use a seen list inside the expression."
   ]
  },
  {
   "cell_type": "code",
   "execution_count": 33,
   "id": "fc0c2b2e",
   "metadata": {},
   "outputs": [],
   "source": [
    "data = [3,1,3,2,1,4,3]\n",
    "seen = []\n",
    "# Expected: [3,1,2,4]\n",
    "answer = [i for i in data if not (i in seen or seen.append(i))]\n",
    "\n",
    "seen = []\n",
    "assert answer == [x for x in data if not (x in seen or seen.append(x))]"
   ]
  },
  {
   "cell_type": "markdown",
   "id": "3dd83c7a",
   "metadata": {},
   "source": [
    "## 15) Matrix diagonal\n",
    "Given a square matrix, extract the main diagonal."
   ]
  },
  {
   "cell_type": "code",
   "execution_count": 35,
   "id": "1d72352c",
   "metadata": {},
   "outputs": [],
   "source": [
    "M = [[1,2,3],\n",
    "     [4,5,6],\n",
    "     [7,8,9]]\n",
    "# Expected: [1,5,9]\n",
    "answer = [M[i][i] for i in range(0, len(M))]\n",
    "\n",
    "assert answer == [M[i][i] for i in range(len(M))]"
   ]
  },
  {
   "cell_type": "markdown",
   "id": "6e445004",
   "metadata": {},
   "source": [
    "## 16) Transpose (swap rows/cols)\n",
    "Transpose a rectangular matrix using a nested comprehension (no zip)."
   ]
  },
  {
   "cell_type": "code",
   "execution_count": 60,
   "id": "ee36afed",
   "metadata": {},
   "outputs": [
    {
     "name": "stdout",
     "output_type": "stream",
     "text": [
      "Rows= 2\n",
      "Columns= 3\n",
      "From r:0 c:0 value: 1 \n",
      "New_row = [1]\n",
      "From r:1 c:0 value: 4 \n",
      "New_row = [1, 4]\n",
      "From r:0 c:1 value: 2 \n",
      "New_row = [2]\n",
      "From r:1 c:1 value: 5 \n",
      "New_row = [2, 5]\n",
      "From r:0 c:2 value: 3 \n",
      "New_row = [3]\n",
      "From r:1 c:2 value: 6 \n",
      "New_row = [3, 6]\n",
      "[[1, 4], [2, 5], [3, 6]]\n",
      "List Comprehension\n",
      "[[1, 4], [2, 5], [3, 6]]\n"
     ]
    }
   ],
   "source": [
    "M = [[1,2,3],\n",
    "     [4,5,6]]\n",
    "# Expected: [[1,4],[2,5],[3,6]]\n",
    "rows = len(M)\n",
    "print(f\"Rows= {rows}\")\n",
    "columns = len(M[0])\n",
    "print(f\"Columns= {columns}\")\n",
    "M2=[]\n",
    "\n",
    "for c in range(columns):\n",
    "     new_row = []\n",
    "     for r in range(rows):\n",
    "          print (f\"From r:{r} c:{c} value: {M[r][c]} \")\n",
    "          new_row.append( M[r][c] )\n",
    "          print(f\"New_row = {new_row}\")\n",
    "     \n",
    "     M2.append(new_row)\n",
    "\n",
    "print(M2)\n",
    "\n",
    "print(\"List Comprehension\")\n",
    "answer = [[M[r][c] for r in range(rows)] for c in range(columns)]\n",
    "print(answer)\n",
    "\n",
    "rows, cols = len(M), len(M[0])\n",
    "assert answer == [[M[r][c] for r in range(rows)] for c in range(cols)]"
   ]
  },
  {
   "cell_type": "markdown",
   "id": "d6f5d8ed",
   "metadata": {},
   "source": [
    "## 17) Numbers that are squares\n",
    "From 1–100, list n that are perfect squares."
   ]
  },
  {
   "cell_type": "code",
   "execution_count": 63,
   "id": "ac780f20",
   "metadata": {},
   "outputs": [
    {
     "name": "stdout",
     "output_type": "stream",
     "text": [
      "[1, 4, 9, 16, 25, 36, 49, 64, 81, 100]\n"
     ]
    }
   ],
   "source": [
    "# Expected: [1,4,9,16,25,36,49,64,81,100]\n",
    "answer = [n**2 for n in range(1,11)]\n",
    "print (answer)\n",
    "\n",
    "assert answer == [n for n in range(1,101) if int(n**0.5)**2 == n]"
   ]
  },
  {
   "cell_type": "markdown",
   "id": "5d291b09",
   "metadata": {},
   "source": [
    "## 18) Prime flags (simple)\n",
    "For numbers 2–20, produce a list of booleans indicating whether each is prime. Use comprehension + all()."
   ]
  },
  {
   "cell_type": "code",
   "execution_count": null,
   "id": "cc7670f7",
   "metadata": {},
   "outputs": [],
   "source": [
    "# Expected: [True, True, False, True, False, True, False, False, False, True, False, True, False, False, False, True, ...]\n",
    "answer = ...  # TODO\n",
    "\n",
    "def is_prime(k):\n",
    "    return k > 1 and all(k % d for d in range(2, int(k**0.5)+1))\n",
    "\n",
    "assert answer == [is_prime(n) for n in range(2, 21)]"
   ]
  },
  {
   "cell_type": "markdown",
   "id": "0d819138",
   "metadata": {},
   "source": [
    "## 19) Flatten and filter\n",
    "Given nested lists, flatten and keep only odd numbers greater than 3."
   ]
  },
  {
   "cell_type": "code",
   "execution_count": null,
   "id": "a82cf946",
   "metadata": {},
   "outputs": [],
   "source": [
    "data = [[1,2,3],[4,5,6],[7,8,9]]\n",
    "# Expected: [5,7,9]\n",
    "answer = ...  # TODO\n",
    "\n",
    "assert answer == [x for sub in data for x in sub if (x % 2 == 1 and x > 3)]"
   ]
  },
  {
   "cell_type": "markdown",
   "id": "7f8aa828",
   "metadata": {},
   "source": [
    "## 20) Sliding 3-grams over a string\n",
    "From a string, produce all overlapping 3-character chunks (ngrams)."
   ]
  },
  {
   "cell_type": "code",
   "execution_count": null,
   "id": "e12fd294",
   "metadata": {},
   "outputs": [],
   "source": [
    "s = \"hellopython\"\n",
    "# Expected: ['hel','ell','llo','lop','opy','pyt','yth','tho','hon']\n",
    "answer = ...  # TODO\n",
    "\n",
    "assert answer == [s[i:i+3] for i in range(len(s)-2)]"
   ]
  }
 ],
 "metadata": {
  "kernelspec": {
   "display_name": ".venv",
   "language": "python",
   "name": "python3"
  },
  "language_info": {
   "codemirror_mode": {
    "name": "ipython",
    "version": 3
   },
   "file_extension": ".py",
   "mimetype": "text/x-python",
   "name": "python",
   "nbconvert_exporter": "python",
   "pygments_lexer": "ipython3",
   "version": "3.11.9"
  }
 },
 "nbformat": 4,
 "nbformat_minor": 5
}
